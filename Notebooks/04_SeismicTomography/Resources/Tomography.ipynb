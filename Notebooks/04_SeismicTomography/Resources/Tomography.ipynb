{
 "cells": [
  {
   "cell_type": "markdown",
   "metadata": {},
   "source": [
    "<div style='background-image: url(\"../../share/images/header.svg\") ; padding: 0px ; background-size: cover ; border-radius: 5px ; height: 250px'>\n",
    "    <div style=\"float: right ; margin: 50px ; padding: 20px ; background: rgba(255 , 255 , 255 , 0.7) ; width: 50% ; height: 150px\">\n",
    "        <div style=\"position: relative ; top: 50% ; transform: translatey(-50%)\">\n",
    "            <div style=\"font-size: xx-large ; font-weight: 900 ; color: rgba(0 , 0 , 0 , 0.8) ; line-height: 100%\">Computational Seismology</div>\n",
    "            <div style=\"font-size: large ; padding-top: 20px ; color: rgba(0 , 0 , 0 , 0.5)\">Seismic Tomography - simple example </div>\n",
    "        </div>\n",
    "    </div>\n",
    "</div>"
   ]
  },
  {
   "cell_type": "markdown",
   "metadata": {},
   "source": [
    "##### Authors:\n",
    "* Ashim Rijal ([@ashimrijal](https://github.com/ashimrijal))\n",
    "* Heiner Igel ([@heinerigel](https://github.com/heinerigel))"
   ]
  },
  {
   "cell_type": "markdown",
   "metadata": {},
   "source": [
    "## Basic Equations\n",
    "### Inverse Problem\n",
    "The process of predicting (or estimating) the numerical vales of a set of model parameters $\\textbf{m}$ of an assumed model based on observation $\\textbf{d}$.\n",
    "\n",
    "Let us suppose, we have measured the data (travel times) on the Earth's surface. We want to find a set of model parameters (slowness). Then we formulate the forward problem as\n",
    "\n",
    "$$\n",
    "\\textbf{d} = \\textbf{G}\\textbf{m}\n",
    "$$\n",
    "\n",
    "Where $\\textbf{G}$ is a system matrix.\n",
    "\n",
    "In order to find $\\textbf{m}$, in this exercise solve normal equation. Normal equation is given by\n",
    "\n",
    "$$\n",
    "\\textbf{G}^{T}\\textbf{Gm} = \\textbf{G}^{T}\\textbf{d}\n",
    "$$\n",
    "\n",
    "We solve the normal equation to get $\\textbf{m}$\n",
    "$$\n",
    "\\textbf{m} = (\\textbf{G}^{T}\\textbf{G})^{-|} \\textbf{G}^{T}\\textbf{d}\n",
    "$$\n",
    "\n",
    "And, the resolution matrix is given by\n",
    "$$\n",
    "\\textbf{res} = (\\textbf{G}^{T}\\textbf{G})^{-|} \\textbf{G}^{T}\\textbf{G}\n",
    "$$"
   ]
  },
  {
   "cell_type": "code",
   "execution_count": 12,
   "metadata": {},
   "outputs": [],
   "source": [
    "# important stuff, run at the very beginning\n",
    "\n",
    "import numpy as np\n",
    "import matplotlib.pyplot as plt"
   ]
  },
  {
   "cell_type": "code",
   "execution_count": 17,
   "metadata": {},
   "outputs": [
    {
     "data": {
      "image/png": "[encoded data removed]",
      "text/plain": [
       "<matplotlib.figure.Figure at 0x7f4ae8a63128>"
      ]
     },
     "metadata": {},
     "output_type": "display_data"
    },
    {
     "name": "stdout",
     "output_type": "stream",
     "text": [
      " Forward operator to generate data \n",
      "[ 3.          3.3         3.          3.          3.3         3.\n",
      "  4.66690476  1.41421356]\n",
      " Explicit calculation of data \n",
      "[ 3.          3.3         3.          3.          3.3         3.\n",
      "  4.66690476  1.41421356]\n"
     ]
    },
    {
     "data": {
      "image/png": "[encoded data removed]",
      "text/plain": [
       "<matplotlib.figure.Figure at 0x7f4ae7f45128>"
      ]
     },
     "metadata": {},
     "output_type": "display_data"
    }
   ],
   "source": [
    "# dimension of the quadratic Earth model\n",
    "n = 3\n",
    "\n",
    "# True earth model initialization (slowness)\n",
    "m = np.ones((n,n))\n",
    "m[1][1]=1.3\n",
    "\n",
    "# plot earth model\n",
    "plt.figure(figsize=(8,5))\n",
    "plt.imshow(m)\n",
    "plt.title('True Earth model')\n",
    "plt.colorbar()\n",
    "plt.show()\n",
    "\n",
    "# generate true data\n",
    "# data are the travel times across the domainsaccording to specific paths\n",
    "# vertical paths\n",
    "l = 1\n",
    "t = np.zeros(8)\n",
    "t[0] = l * (m[0][0]+m[0][1]+m[0][2])     # i.e. t = distance * slowness    \n",
    "t[1] = l * (m[1][0]+m[1][1]+m[1][2])\n",
    "t[2] = l * (m[2][0]+m[2][1]+m[2][2])\n",
    "\n",
    "# horizontal paths\n",
    "t[3] = l * (m[0][0]+m[1][0]+m[2][0])\n",
    "t[4] = l * (m[0][1]+m[1][1]+m[2][1])\n",
    "t[5] = l * (m[0][2]+m[1][2]+m[2][2])\n",
    "\n",
    "# diagonal paths\n",
    "l2 = np.sqrt(2)*l\n",
    "t[6] = l2*(m[0][0]+m[1][1]+m[2][2])\n",
    "t[7] = l2*m[2][2]\n",
    "\n",
    "# t is now a vector data\n",
    "# end of generating true data\n",
    "\n",
    "# system matrix\n",
    "s = np.sqrt(2)\n",
    "\n",
    "G = G = np.array([[1, 0, 0, 1, 0, 0, 1, 0, 0],\\\n",
    "                  [0, 1, 0, 0, 1, 0, 0, 1, 0],\\\n",
    "                  [0, 0, 1, 0, 0, 1, 0, 0, 1],\\\n",
    "                  [1, 1, 1, 0, 0, 0, 0, 0, 0],\\\n",
    "                  [0, 0, 0, 1, 1, 1, 0, 0, 0],\\\n",
    "                  [0, 0, 0, 0, 0, 0, 1, 1, 1],\\\n",
    "                  [s, 0, 0, 0, s, 0, 0, 0, s],\\\n",
    "                  [0, 0, 0, 0, 0, 0, 0, 0, s]])\n",
    "\n",
    "# reshape m\n",
    "s = np.zeros(9)\n",
    "ii = 0\n",
    "for i in range (0,n):\n",
    "    for j in range(0,n):\n",
    "        s[ii]=m[i][j]\n",
    "        ii = ii+1\n",
    "        \n",
    "# Test forward operator\n",
    "print(' Forward operator to generate data ')\n",
    "print(G.dot(s))\n",
    "print(' Explicit calculation of data ')\n",
    "print(t.transpose())\n",
    "\n",
    "# solve inverse problem\n",
    "mest = ((np.linalg.inv(G.transpose().dot(G))).dot(G.transpose())).dot(t)\n",
    "\n",
    "# plot earth model\n",
    "plt.figure(figsize=(8,5))\n",
    "plt.imshow((np.reshape(mest,(3,3))).transpose())\n",
    "plt.title('Estimated Earth model')\n",
    "plt.colorbar()\n",
    "plt.show()"
   ]
  }
 ],
 "metadata": {
  "kernelspec": {
   "display_name": "Python 3",
   "language": "python",
   "name": "python3"
  },
  "language_info": {
   "codemirror_mode": {
    "name": "ipython",
    "version": 3
   },
   "file_extension": ".py",
   "mimetype": "text/x-python",
   "name": "python",
   "nbconvert_exporter": "python",
   "pygments_lexer": "ipython3",
   "version": "3.6.3"
  }
 },
 "nbformat": 4,
 "nbformat_minor": 2
}
